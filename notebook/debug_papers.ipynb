{
 "cells": [
  {
   "cell_type": "code",
   "execution_count": null,
   "id": "788aa67e",
   "metadata": {},
   "outputs": [],
   "source": [
    "import polars as pl\n",
    "import gzip\n",
    "from pathlib import Path\n",
    "from lxml import etree\n",
    "import json\n"
   ]
  },
  {
   "cell_type": "code",
   "execution_count": null,
   "id": "a8d7f527",
   "metadata": {},
   "outputs": [],
   "source": [
    "papers = pl.read_ndjson(\"../data/papers.jsonl\")"
   ]
  },
  {
   "cell_type": "code",
   "execution_count": null,
   "id": "b98e57cd",
   "metadata": {},
   "outputs": [],
   "source": [
    "paper = papers.sample(1).to_dicts()[0]\n",
    "print(f\"Source Paper {paper['arxiv_id']}: {paper['title']}\")\n",
    "\n",
    "citations = paper['citations']\n",
    "\n",
    "arxiv_citations_with_context = [c for c in citations if c['arxiv_id'] and c['reference_contexts']]\n",
    "\n",
    "print(\"Referred to:\")\n",
    "for c in arxiv_citations_with_context:\n",
    "    c.pop('citation_id')\n",
    "    print(json.dumps(c, indent=2))\n",
    "    print()"
   ]
  },
  {
   "cell_type": "code",
   "execution_count": null,
   "id": "1ea79a57",
   "metadata": {},
   "outputs": [],
   "source": [
    "# --- Load and parse the gzipped TEI XML --\n",
    "arxiv_id = paper['arxiv_id']\n",
    "xml_path = Path(f\"../data/xml_docs/{arxiv_id}.xml.gz\")\n",
    "with gzip.open(xml_path, \"rb\") as f:\n",
    "    data = f.read()\n",
    "\n",
    "parser = etree.XMLParser(recover=True)\n",
    "root = etree.fromstring(data, parser=parser)\n",
    "\n",
    "NS = {\"tei\": \"http://www.tei-c.org/ns/1.0\"}\n",
    "tei_text = lambda el: \" \".join(\" \".join(el.itertext()).split()) if el is not None else \"\"\n",
    "\n",
    "\n",
    "# --- Quick helpers ---\n",
    "def get_title(root):\n",
    "    xp = [\n",
    "        \".//tei:teiHeader/tei:fileDesc/tei:titleStmt/tei:title\",\n",
    "        \".//tei:fileDesc/tei:sourceDesc//tei:biblStruct/tei:analytic/tei:title[@type='main']\",\n",
    "        \".//tei:fileDesc/tei:sourceDesc//tei:biblStruct/tei:monogr/tei:title\",\n",
    "    ]\n",
    "    for path in xp:\n",
    "        node = root.find(path, NS)\n",
    "        if node is not None and tei_text(node):\n",
    "            return tei_text(node)\n",
    "    return None\n",
    "\n",
    "\n",
    "def get_abstract(root):\n",
    "    node = root.find(\".//tei:text/tei:front/tei:abstract\", NS) or root.find(\".//tei:profileDesc/tei:abstract\", NS)\n",
    "    return tei_text(node) if node is not None else None\n",
    "\n",
    "\n",
    "def iter_sections(root):\n",
    "    \"\"\"Yield (path, level, title, type, text) for each section/subsection.\"\"\"\n",
    "    body = root.find(\".//tei:text/tei:body\", NS)\n",
    "    if body is None:\n",
    "        return\n",
    "    stack = [(body, 0, [])]\n",
    "    while stack:\n",
    "        node, level, path = stack.pop()\n",
    "        divs = list(node.findall(\"./tei:div\", NS))\n",
    "        for i, div in enumerate(divs, 1):\n",
    "            new_path = path + [i]\n",
    "            title = tei_text(div.find(\"./tei:head\", NS))\n",
    "            paras = [tei_text(p) for p in div.findall(\"./tei:p\", NS)]\n",
    "            text = \"\\n\\n\".join([p for p in paras if p])\n",
    "            yield {\n",
    "                \"path\": \".\".join(map(str, new_path)),\n",
    "                \"level\": level + 1,\n",
    "                \"title\": title,\n",
    "                \"type\": div.get(\"type\"),\n",
    "                \"text\": text,\n",
    "            }\n",
    "            # Push children for recursion\n",
    "            for child in reversed(div.findall(\"./tei:div\", NS)):\n",
    "                stack.append((child, level + 1, new_path))\n",
    "\n",
    "\n",
    "# --- Extract ---\n",
    "title = get_title(root)\n",
    "abstract = get_abstract(root)\n",
    "sections = list(iter_sections(root))\n",
    "\n",
    "print(title)\n",
    "print(abstract)\n",
    "print([s['title'] for s in sections])"
   ]
  },
  {
   "cell_type": "code",
   "execution_count": null,
   "id": "f4c572d2",
   "metadata": {},
   "outputs": [],
   "source": []
  },
  {
   "cell_type": "code",
   "execution_count": null,
   "id": "cb3c57f8",
   "metadata": {},
   "outputs": [],
   "source": []
  }
 ],
 "metadata": {
  "kernelspec": {
   "display_name": ".venv",
   "language": "python",
   "name": "python3"
  },
  "language_info": {
   "codemirror_mode": {
    "name": "ipython",
    "version": 3
   },
   "file_extension": ".py",
   "mimetype": "text/x-python",
   "name": "python",
   "nbconvert_exporter": "python",
   "pygments_lexer": "ipython3",
   "version": "3.12.9"
  }
 },
 "nbformat": 4,
 "nbformat_minor": 5
}
